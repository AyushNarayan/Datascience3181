{
 "cells": [
  {
   "cell_type": "code",
   "execution_count": 17,
   "id": "026c7db4",
   "metadata": {},
   "outputs": [
    {
     "name": "stdout",
     "output_type": "stream",
     "text": [
      "Hello Ayush, how are you!\n"
     ]
    }
   ],
   "source": [
    "Print(\"Hello Ayush, how are you!\")"
   ]
  },
  {
   "cell_type": "code",
   "execution_count": 18,
   "id": "828ebd1c",
   "metadata": {},
   "outputs": [
    {
     "name": "stdout",
     "output_type": "stream",
     "text": [
      "Ayush Narayan\n"
     ]
    }
   ],
   "source": [
    "print(\"Ayush Narayan\")"
   ]
  },
  {
   "cell_type": "code",
   "execution_count": null,
   "id": "fecbaa1b",
   "metadata": {},
   "outputs": [],
   "source": []
  }
 ],
 "metadata": {
  "kernelspec": {
   "display_name": "Python 3 (ipykernel)",
   "language": "python",
   "name": "python3"
  },
  "language_info": {
   "codemirror_mode": {
    "name": "ipython",
    "version": 3
   },
   "file_extension": ".py",
   "mimetype": "text/x-python",
   "name": "python",
   "nbconvert_exporter": "python",
   "pygments_lexer": "ipython3",
   "version": "3.11.5"
  }
 },
 "nbformat": 4,
 "nbformat_minor": 5
}
